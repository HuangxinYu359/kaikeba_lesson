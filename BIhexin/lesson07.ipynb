{
 "cells": [
  {
   "cell_type": "markdown",
   "metadata": {},
   "source": [
    "thinking1:\n",
    "链式法则的作用就是将梯度串起来，计算好梯度的gate接受到了上游传来的梯度，乘以我们的局部梯度后，再继续将梯度继续向后传递。\n"
   ]
  },
  {
   "cell_type": "markdown",
   "metadata": {},
   "source": [
    "thinking2:\n",
    "sigmoid\\tanh\\relu.激活函数的主要作用是完成数据的非线性变换，解决线性模型的表达、分类能力不足的问题."
   ]
  },
  {
   "cell_type": "markdown",
   "metadata": {},
   "source": [
    "thinking3:\n",
    "很有可能是梯度消失了，它表示神经网络迭代更新时，有些权值不更新的现象。\n",
    "改变激活函数，改变权值的初始化等"
   ]
  },
  {
   "cell_type": "markdown",
   "metadata": {},
   "source": [
    "# action1"
   ]
  },
  {
   "cell_type": "code",
   "execution_count": 4,
   "metadata": {},
   "outputs": [],
   "source": [
    "from sklearn.datasets import load_boston\n",
    "import torch\n",
    "#数据加载\n",
    "data = load_boston()\n",
    "x = data['data']\n",
    "y = data['target']\n",
    "y = y.reshape(-1,1)"
   ]
  },
  {
   "cell_type": "code",
   "execution_count": 5,
   "metadata": {},
   "outputs": [],
   "source": [
    "#数据规范化\n",
    "from sklearn.preprocessing import MinMaxScaler\n",
    "ss =MinMaxScaler()\n",
    "x = ss.fit_transform(x)"
   ]
  },
  {
   "cell_type": "code",
   "execution_count": 6,
   "metadata": {},
   "outputs": [],
   "source": [
    "#数据集切分\n",
    "x = torch.from_numpy(x).type(torch.FloatTensor)\n",
    "y = torch.from_numpy(y).type(torch.FloatTensor)\n",
    "from sklearn.model_selection import train_test_split\n",
    "train_x,test_x,train_y,text_y = train_test_split(x,y,test_size = 0.2)"
   ]
  },
  {
   "cell_type": "code",
   "execution_count": 11,
   "metadata": {},
   "outputs": [],
   "source": [
    "from torch import nn\n",
    "#构造网络\n",
    "model = nn.Sequential(\n",
    "    nn.Linear(13,10),\n",
    "    nn.ReLU( ),\n",
    "    nn.Linear(10,1)\n",
    ")"
   ]
  },
  {
   "cell_type": "code",
   "execution_count": 12,
   "metadata": {},
   "outputs": [],
   "source": [
    "#定义优化器和损失函数\n",
    "criterion =nn.MSELoss()\n",
    "optimizer = torch.optim.Adam(model.parameters(),lr = 0.01)"
   ]
  },
  {
   "cell_type": "code",
   "execution_count": 14,
   "metadata": {},
   "outputs": [],
   "source": [
    "#训练\n",
    "max_epoch = 300\n",
    "for i in range(max_epoch):\n",
    "    y_pred = model(train_x)\n",
    "    #计算loss\n",
    "    loss = criterion(y_pred,train_y)\n",
    "    #清空梯度\n",
    "    optimizer.zero_grad()\n",
    "    #反向传播\n",
    "    loss.backward()\n",
    "    #权重调整\n",
    "    optimizer.step()\n"
   ]
  },
  {
   "cell_type": "code",
   "execution_count": 16,
   "metadata": {
    "collapsed": true
   },
   "outputs": [
    {
     "data": {
      "text/plain": [
       "array([[ 3.8113647],\n",
       "       [ 5.2062125],\n",
       "       [ 6.4521956],\n",
       "       [ 4.6519923],\n",
       "       [ 3.8113647],\n",
       "       [ 7.7214603],\n",
       "       [ 8.025955 ],\n",
       "       [ 3.8113647],\n",
       "       [ 6.5811043],\n",
       "       [ 4.7821093],\n",
       "       [ 5.057935 ],\n",
       "       [ 6.87619  ],\n",
       "       [ 9.545502 ],\n",
       "       [ 6.052965 ],\n",
       "       [ 4.0456543],\n",
       "       [ 8.842862 ],\n",
       "       [ 9.646501 ],\n",
       "       [ 7.480786 ],\n",
       "       [ 3.8113647],\n",
       "       [ 7.726648 ],\n",
       "       [ 3.8113647],\n",
       "       [ 7.160101 ],\n",
       "       [ 6.4624147],\n",
       "       [11.006444 ],\n",
       "       [ 3.8113647],\n",
       "       [ 5.969412 ],\n",
       "       [ 5.449755 ],\n",
       "       [ 6.1717668],\n",
       "       [ 5.1354733],\n",
       "       [ 3.8113647],\n",
       "       [ 3.8113647],\n",
       "       [10.5666065],\n",
       "       [ 5.285101 ],\n",
       "       [ 8.285817 ],\n",
       "       [ 7.7571626],\n",
       "       [ 7.113847 ],\n",
       "       [ 6.5747323],\n",
       "       [ 3.8113647],\n",
       "       [ 5.379177 ],\n",
       "       [ 3.8113647],\n",
       "       [ 7.834415 ],\n",
       "       [ 4.2038913],\n",
       "       [ 3.8973744],\n",
       "       [ 8.074028 ],\n",
       "       [ 6.246154 ],\n",
       "       [ 3.8113647],\n",
       "       [ 3.8113647],\n",
       "       [10.684904 ],\n",
       "       [ 3.8113647],\n",
       "       [ 7.200902 ],\n",
       "       [ 4.808203 ],\n",
       "       [ 3.8113647],\n",
       "       [ 6.4944315],\n",
       "       [ 6.8145475],\n",
       "       [ 5.0396976],\n",
       "       [ 6.4399333],\n",
       "       [ 9.309799 ],\n",
       "       [ 3.8113647],\n",
       "       [ 7.320572 ],\n",
       "       [ 3.8113647],\n",
       "       [ 3.8113647],\n",
       "       [ 3.8113647],\n",
       "       [ 3.8113647],\n",
       "       [ 3.8113647],\n",
       "       [ 4.7602377],\n",
       "       [ 3.8113647],\n",
       "       [ 3.8113647],\n",
       "       [ 7.499091 ],\n",
       "       [ 3.865664 ],\n",
       "       [ 4.197777 ],\n",
       "       [ 3.8113647],\n",
       "       [ 3.8113647],\n",
       "       [10.46287  ],\n",
       "       [ 5.2212095],\n",
       "       [ 6.1772885],\n",
       "       [ 6.90816  ],\n",
       "       [ 3.8113647],\n",
       "       [ 4.481923 ],\n",
       "       [ 3.8113647],\n",
       "       [ 6.6175427],\n",
       "       [ 7.1341496],\n",
       "       [ 7.414871 ],\n",
       "       [ 6.079318 ],\n",
       "       [ 3.8113647],\n",
       "       [ 7.045372 ],\n",
       "       [ 3.8113647],\n",
       "       [ 8.5044365],\n",
       "       [ 5.5299163],\n",
       "       [ 5.117871 ],\n",
       "       [ 9.396873 ],\n",
       "       [ 6.4936266],\n",
       "       [ 3.8113647],\n",
       "       [ 3.8113647],\n",
       "       [ 5.800944 ],\n",
       "       [ 6.460733 ],\n",
       "       [ 3.8113647],\n",
       "       [ 5.1934633],\n",
       "       [ 3.8113647],\n",
       "       [ 4.9790893],\n",
       "       [ 9.534813 ],\n",
       "       [ 3.8113647],\n",
       "       [ 4.097825 ]], dtype=float32)"
      ]
     },
     "execution_count": 16,
     "metadata": {},
     "output_type": "execute_result"
    }
   ],
   "source": [
    "#做测试\n",
    "output = model(test_x)\n",
    "predict_list = output.detach().numpy()\n",
    "predict_list"
   ]
  },
  {
   "cell_type": "markdown",
   "metadata": {},
   "source": [
    "# action2"
   ]
  },
  {
   "cell_type": "code",
   "execution_count": null,
   "metadata": {},
   "outputs": [],
   "source": []
  },
  {
   "cell_type": "code",
   "execution_count": 18,
   "metadata": {},
   "outputs": [],
   "source": [
    "#数据加载\n",
    "import pandas as pd\n",
    "df = pd.read_csv('G:/project_courseware/核心班BI/lesson07/fresh_comp_offline/tianchi_fresh_comp_train_user.csv')"
   ]
  },
  {
   "cell_type": "code",
   "execution_count": 19,
   "metadata": {},
   "outputs": [
    {
     "data": {
      "text/html": [
       "<div>\n",
       "<style scoped>\n",
       "    .dataframe tbody tr th:only-of-type {\n",
       "        vertical-align: middle;\n",
       "    }\n",
       "\n",
       "    .dataframe tbody tr th {\n",
       "        vertical-align: top;\n",
       "    }\n",
       "\n",
       "    .dataframe thead th {\n",
       "        text-align: right;\n",
       "    }\n",
       "</style>\n",
       "<table border=\"1\" class=\"dataframe\">\n",
       "  <thead>\n",
       "    <tr style=\"text-align: right;\">\n",
       "      <th></th>\n",
       "      <th>user_id</th>\n",
       "      <th>item_id</th>\n",
       "      <th>behavior_type</th>\n",
       "      <th>user_geohash</th>\n",
       "      <th>item_category</th>\n",
       "      <th>time</th>\n",
       "    </tr>\n",
       "  </thead>\n",
       "  <tbody>\n",
       "    <tr>\n",
       "      <td>0</td>\n",
       "      <td>10001082</td>\n",
       "      <td>285259775</td>\n",
       "      <td>1</td>\n",
       "      <td>97lk14c</td>\n",
       "      <td>4076</td>\n",
       "      <td>2014-12-08 18</td>\n",
       "    </tr>\n",
       "    <tr>\n",
       "      <td>1</td>\n",
       "      <td>10001082</td>\n",
       "      <td>4368907</td>\n",
       "      <td>1</td>\n",
       "      <td>NaN</td>\n",
       "      <td>5503</td>\n",
       "      <td>2014-12-12 12</td>\n",
       "    </tr>\n",
       "    <tr>\n",
       "      <td>2</td>\n",
       "      <td>10001082</td>\n",
       "      <td>4368907</td>\n",
       "      <td>1</td>\n",
       "      <td>NaN</td>\n",
       "      <td>5503</td>\n",
       "      <td>2014-12-12 12</td>\n",
       "    </tr>\n",
       "    <tr>\n",
       "      <td>3</td>\n",
       "      <td>10001082</td>\n",
       "      <td>53616768</td>\n",
       "      <td>1</td>\n",
       "      <td>NaN</td>\n",
       "      <td>9762</td>\n",
       "      <td>2014-12-02 15</td>\n",
       "    </tr>\n",
       "    <tr>\n",
       "      <td>4</td>\n",
       "      <td>10001082</td>\n",
       "      <td>151466952</td>\n",
       "      <td>1</td>\n",
       "      <td>NaN</td>\n",
       "      <td>5232</td>\n",
       "      <td>2014-12-12 11</td>\n",
       "    </tr>\n",
       "  </tbody>\n",
       "</table>\n",
       "</div>"
      ],
      "text/plain": [
       "    user_id    item_id  behavior_type user_geohash  item_category  \\\n",
       "0  10001082  285259775              1      97lk14c           4076   \n",
       "1  10001082    4368907              1          NaN           5503   \n",
       "2  10001082    4368907              1          NaN           5503   \n",
       "3  10001082   53616768              1          NaN           9762   \n",
       "4  10001082  151466952              1          NaN           5232   \n",
       "\n",
       "            time  \n",
       "0  2014-12-08 18  \n",
       "1  2014-12-12 12  \n",
       "2  2014-12-12 12  \n",
       "3  2014-12-02 15  \n",
       "4  2014-12-12 11  "
      ]
     },
     "execution_count": 19,
     "metadata": {},
     "output_type": "execute_result"
    }
   ],
   "source": [
    "data = df\n",
    "data.head()"
   ]
  },
  {
   "cell_type": "code",
   "execution_count": 20,
   "metadata": {},
   "outputs": [
    {
     "data": {
      "text/plain": [
       "1    21940520\n",
       "3      659437\n",
       "2      458491\n",
       "4      232579\n",
       "Name: behavior_type, dtype: int64"
      ]
     },
     "execution_count": 20,
     "metadata": {},
     "output_type": "execute_result"
    }
   ],
   "source": [
    "#计算cvr\n",
    "data['behavior_type'].value_counts()"
   ]
  },
  {
   "cell_type": "code",
   "execution_count": 25,
   "metadata": {},
   "outputs": [],
   "source": [
    "count_all,count_4 = 0,0\n",
    "count_user = data['behavior_type'].value_counts()\n",
    "count_all = count_user[1]+count_user[2]+count_user[3]+count_user[4]\n",
    "count_4 = count_user[4]"
   ]
  },
  {
   "cell_type": "code",
   "execution_count": 26,
   "metadata": {},
   "outputs": [
    {
     "data": {
      "text/plain": [
       "0.009985776926023916"
      ]
     },
     "execution_count": 26,
     "metadata": {},
     "output_type": "execute_result"
    }
   ],
   "source": [
    "cvr = count_4/count_all\n",
    "cvr"
   ]
  },
  {
   "cell_type": "code",
   "execution_count": 29,
   "metadata": {},
   "outputs": [
    {
     "name": "stdout",
     "output_type": "stream",
     "text": [
      "                      user_id    item_id  behavior_type user_geohash  \\\n",
      "time                                                                   \n",
      "2014-12-08 18:00:00  10001082  285259775              1      97lk14c   \n",
      "2014-12-12 12:00:00  10001082    4368907              1          NaN   \n",
      "2014-12-12 12:00:00  10001082    4368907              1          NaN   \n",
      "2014-12-02 15:00:00  10001082   53616768              1          NaN   \n",
      "2014-12-12 11:00:00  10001082  151466952              1          NaN   \n",
      "\n",
      "                     item_category                time  \n",
      "time                                                    \n",
      "2014-12-08 18:00:00           4076 2014-12-08 18:00:00  \n",
      "2014-12-12 12:00:00           5503 2014-12-12 12:00:00  \n",
      "2014-12-12 12:00:00           5503 2014-12-12 12:00:00  \n",
      "2014-12-02 15:00:00           9762 2014-12-02 15:00:00  \n",
      "2014-12-12 11:00:00           5232 2014-12-12 11:00:00  \n"
     ]
    }
   ],
   "source": [
    "#将time字段设置为pandas中的datatime类型\n",
    "data['time'] = pd.to_datetime(data['time'])\n",
    "data.index = data['time']\n",
    "print(data.head())"
   ]
  },
  {
   "cell_type": "code",
   "execution_count": 30,
   "metadata": {},
   "outputs": [],
   "source": [
    "from collections import defaultdict\n",
    "from datetime import datetime,timedelta\n"
   ]
  },
  {
   "cell_type": "code",
   "execution_count": 35,
   "metadata": {},
   "outputs": [
    {
     "name": "stdout",
     "output_type": "stream",
     "text": [
      "defaultdict(<class 'int'>, {'2014-11-18': 684628, '2014-11-19': 687528, '2014-11-20': 672189, '2014-11-21': 634122, '2014-11-22': 668509, '2014-11-23': 722978, '2014-11-24': 718217, '2014-11-25': 699413, '2014-11-26': 679323, '2014-11-27': 689855, '2014-11-28': 658806, '2014-11-29': 684442, '2014-11-30': 751093, '2014-12-01': 744363, '2014-12-02': 753810, '2014-12-03': 788689, '2014-12-04': 745391, '2014-12-05': 693593, '2014-12-06': 732821, '2014-12-07': 763498, '2014-12-08': 753138, '2014-12-09': 767838, '2014-12-10': 788712, '2014-12-11': 944979, '2014-12-12': 1344980, '2014-12-13': 777013, '2014-12-14': 779285, '2014-12-15': 764085, '2014-12-16': 751370, '2014-12-17': 734520, '2014-12-18': 711839})\n"
     ]
    }
   ],
   "source": [
    "count_day = defaultdict(int)\n",
    "#从2014-11-18遍历到2014-12-18\n",
    "str1 = '2014-11-17'\n",
    "temp_date = datetime.strptime(str1,'%Y-%m-%d')\n",
    "delta=timedelta(days=1)\n",
    "for i in range(31):\n",
    "    temp_date = temp_date+delta\n",
    "    #将时间转化为字符串类型\n",
    "    temp_str = temp_date.strftime('%Y-%m-%d')\n",
    "    \n",
    "    count_day[temp_str] +=data[temp_str].shape[0]\n",
    "print(count_day)"
   ]
  },
  {
   "cell_type": "code",
   "execution_count": 37,
   "metadata": {},
   "outputs": [
    {
     "data": {
      "image/png": "[encoded data removed]",
      "text/plain": [
       "<Figure size 432x288 with 1 Axes>"
      ]
     },
     "metadata": {
      "needs_background": "light"
     },
     "output_type": "display_data"
    }
   ],
   "source": [
    "import matplotlib.pyplot as plt\n",
    "data_count_day =pd.DataFrame.from_dict(count_day,orient='index',columns=['count'])\n",
    "data_count_day['count'].plot(kind = 'bar')\n",
    "plt.legend(loc='best')\n",
    "plt.grid(True)\n",
    "plt.show()"
   ]
  },
  {
   "cell_type": "code",
   "execution_count": 45,
   "metadata": {},
   "outputs": [
    {
     "name": "stdout",
     "output_type": "stream",
     "text": [
      "2014-12-12 00\n",
      "2014-12-12 01\n",
      "2014-12-12 02\n",
      "2014-12-12 03\n",
      "2014-12-12 04\n",
      "2014-12-12 05\n",
      "2014-12-12 06\n",
      "2014-12-12 07\n",
      "2014-12-12 08\n",
      "2014-12-12 09\n",
      "2014-12-12 10\n",
      "2014-12-12 11\n",
      "2014-12-12 12\n",
      "2014-12-12 13\n",
      "2014-12-12 14\n",
      "2014-12-12 15\n",
      "2014-12-12 16\n",
      "2014-12-12 17\n",
      "2014-12-12 18\n",
      "2014-12-12 19\n",
      "2014-12-12 20\n",
      "2014-12-12 21\n",
      "2014-12-12 22\n",
      "2014-12-12 23\n",
      "{'2014-12-12 00': [87638, 1180, 4705, 4407], '2014-12-12 01': [38217, 509, 1487, 865], '2014-12-12 02': [21510, 365, 751, 491], '2014-12-12 03': [13100, 194, 442, 243], '2014-12-12 04': [9901, 140, 440, 222], '2014-12-12 05': [11494, 119, 485, 259], '2014-12-12 06': [23482, 295, 797, 545], '2014-12-12 07': [37956, 492, 1319, 881], '2014-12-12 08': [50923, 804, 1910, 1363], '2014-12-12 09': [53342, 697, 2223, 1659], '2014-12-12 10': [60806, 917, 2441, 1666], '2014-12-12 11': [54636, 864, 2098, 1603], '2014-12-12 12': [54835, 983, 2008, 1289], '2014-12-12 13': [60916, 1116, 2348, 1507], '2014-12-12 14': [53294, 991, 2022, 1163], '2014-12-12 15': [54780, 924, 2023, 1228], '2014-12-12 16': [53353, 933, 1815, 1098], '2014-12-12 17': [43885, 938, 1600, 835], '2014-12-12 18': [48683, 916, 1718, 987], '2014-12-12 19': [60983, 920, 2064, 1127], '2014-12-12 20': [79216, 1388, 2397, 1327], '2014-12-12 21': [97226, 1410, 3212, 1620], '2014-12-12 22': [94300, 1506, 3442, 1728], '2014-12-12 23': [82727, 1298, 3894, 2124]}\n"
     ]
    },
    {
     "data": {
      "image/png": "[encoded data removed]",
      "text/plain": [
       "<Figure size 432x288 with 1 Axes>"
      ]
     },
     "metadata": {
      "needs_background": "light"
     },
     "output_type": "display_data"
    }
   ],
   "source": [
    "def show_count_hour(date1):\n",
    "    count_hour ={}\n",
    "    for i in range(24):\n",
    "        time_str =date1 +' %02.d' % i\n",
    "        count_hour[time_str] =[0, 0, 0, 0]\n",
    "        temp = data[time_str]['behavior_type'].value_counts()\n",
    "        for j in range(len(temp)):\n",
    "            count_hour[time_str][temp.index[j]-1] +=temp[temp.index[j]]\n",
    "            \n",
    "        print(time_str)\n",
    "    print(count_hour)\n",
    "    \n",
    "    data_count_hour = pd.DataFrame.from_dict(count_hour,orient = 'index')\n",
    "    data_count_hour.plot(kind = 'bar')\n",
    "    plt.legend(loc = 'best')\n",
    "    plt.grid(True)\n",
    "    plt.show()\n",
    "show_count_hour('2014-12-12')\n"
   ]
  },
  {
   "cell_type": "code",
   "execution_count": null,
   "metadata": {},
   "outputs": [],
   "source": []
  }
 ],
 "metadata": {
  "kernelspec": {
   "display_name": "Python 3",
   "language": "python",
   "name": "python3"
  },
  "language_info": {
   "codemirror_mode": {
    "name": "ipython",
    "version": 3
   },
   "file_extension": ".py",
   "mimetype": "text/x-python",
   "name": "python",
   "nbconvert_exporter": "python",
   "pygments_lexer": "ipython3",
   "version": "3.7.4"
  }
 },
 "nbformat": 4,
 "nbformat_minor": 2
}
